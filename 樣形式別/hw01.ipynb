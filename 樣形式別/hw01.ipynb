{
 "cells": [
  {
   "cell_type": "code",
   "execution_count": 1,
   "source": [
    "import os\r\n",
    "import sys\r\n",
    "import glob\r\n",
    "import matplotlib.pyplot as plt\r\n",
    "import numpy as np\r\n",
    "import pandas as pd\r\n",
    "%matplotlib inline\r\n",
    "%precision 4\r\n",
    "plt.style.use('ggplot')"
   ],
   "outputs": [],
   "metadata": {}
  },
  {
   "cell_type": "code",
   "execution_count": 2,
   "source": [
    "import numpy as np\r\n",
    "import scipy.linalg as la\r\n",
    "np.set_printoptions(suppress=True)\r\n",
    "\r\n",
    "A = np.array([[1,3,4],[2,1,3],[4,1,2]])\r\n",
    "\r\n",
    "L = np.array([[1,0,0],[2,1,0],[4,11/5,1]])\r\n",
    "U = np.array([[1,3,4],[0,-5,-5],[0,0,-3]])\r\n",
    "print(L.dot(U))\r\n",
    "print(L)\r\n",
    "print(U)"
   ],
   "outputs": [
    {
     "output_type": "stream",
     "name": "stdout",
     "text": [
      "[[1. 3. 4.]\n",
      " [2. 1. 3.]\n",
      " [4. 1. 2.]]\n",
      "[[1.  0.  0. ]\n",
      " [2.  1.  0. ]\n",
      " [4.  2.2 1. ]]\n",
      "[[ 1  3  4]\n",
      " [ 0 -5 -5]\n",
      " [ 0  0 -3]]\n"
     ]
    }
   ],
   "metadata": {}
  },
  {
   "cell_type": "code",
   "execution_count": 4,
   "source": [
    "import numpy as np\r\n",
    "import scipy.linalg as la\r\n",
    "np.set_printoptions(suppress=True)\r\n",
    "\r\n",
    "A = np.array([[1,3,4],[2,1,3],[4,1,2]])\r\n",
    "\r\n",
    "print(A)\r\n",
    "\r\n",
    "P, L, U = la.lu(A)\r\n",
    "print(np.dot(P.T, A))\r\n",
    "print\r\n",
    "print(np.dot(L, U))\r\n",
    "print(P)\r\n",
    "print(L)\r\n",
    "print(U)"
   ],
   "outputs": [
    {
     "output_type": "stream",
     "name": "stdout",
     "text": [
      "[[1 3 4]\n",
      " [2 1 3]\n",
      " [4 1 2]]\n",
      "[[4. 1. 2.]\n",
      " [1. 3. 4.]\n",
      " [2. 1. 3.]]\n",
      "[[4. 1. 2.]\n",
      " [1. 3. 4.]\n",
      " [2. 1. 3.]]\n",
      "[[0. 1. 0.]\n",
      " [0. 0. 1.]\n",
      " [1. 0. 0.]]\n",
      "[[1.     0.     0.    ]\n",
      " [0.25   1.     0.    ]\n",
      " [0.5    0.1818 1.    ]]\n",
      "[[4.     1.     2.    ]\n",
      " [0.     2.75   3.5   ]\n",
      " [0.     0.     1.3636]]\n"
     ]
    }
   ],
   "metadata": {}
  },
  {
   "cell_type": "code",
   "execution_count": 5,
   "source": [
    "A = np.array([[1,3,5],[3,13,23],[5,23,42]])\r\n",
    "L = la.cholesky(A)\r\n",
    "print(np.dot(L.T, L))\r\n",
    "\r\n",
    "print(L)\r\n",
    "print(A)"
   ],
   "outputs": [
    {
     "output_type": "stream",
     "name": "stdout",
     "text": [
      "[[ 1.  3.  5.]\n",
      " [ 3. 13. 23.]\n",
      " [ 5. 23. 42.]]\n",
      "[[1. 3. 5.]\n",
      " [0. 2. 4.]\n",
      " [0. 0. 1.]]\n",
      "[[ 1  3  5]\n",
      " [ 3 13 23]\n",
      " [ 5 23 42]]\n"
     ]
    }
   ],
   "metadata": {}
  },
  {
   "cell_type": "code",
   "execution_count": 6,
   "source": [
    "A = np.array([[0,1,1],[2,1,0],[3,4,5]])\r\n",
    "\r\n",
    "u, V = la.eig(A)\r\n",
    "print(np.dot(V,np.dot(np.diag(u), la.inv(V))))\r\n",
    "print(u)"
   ],
   "outputs": [
    {
     "output_type": "stream",
     "name": "stdout",
     "text": [
      "[[ 0.+0.j  1.+0.j  1.+0.j]\n",
      " [ 2.+0.j  1.+0.j -0.+0.j]\n",
      " [ 3.+0.j  4.+0.j  5.+0.j]]\n",
      "[ 5.8541+0.j -0.8541+0.j  1.    +0.j]\n"
     ]
    }
   ],
   "metadata": {}
  },
  {
   "cell_type": "code",
   "execution_count": 7,
   "source": [
    "A = np.array([[0,1],[-1,0]])\r\n",
    "print(A)\r\n",
    "\r\n",
    "u, V = la.eig(A)\r\n",
    "print(np.dot(V,np.dot(np.diag(u), la.inv(V))))\r\n",
    "print(u)"
   ],
   "outputs": [
    {
     "output_type": "stream",
     "name": "stdout",
     "text": [
      "[[ 0  1]\n",
      " [-1  0]]\n",
      "[[ 0.+0.j  1.+0.j]\n",
      " [-1.+0.j  0.+0.j]]\n",
      "[0.+1.j 0.-1.j]\n"
     ]
    }
   ],
   "metadata": {}
  },
  {
   "cell_type": "code",
   "execution_count": 10,
   "source": [
    "\r\n",
    "\r\n",
    "A = np.array([[0,1,1],[2,1,0],[3,4,5]])\r\n",
    "u, V = la.eig(A)\r\n",
    "print(u)\r\n",
    "print( np.real_if_close(u))"
   ],
   "outputs": [
    {
     "output_type": "stream",
     "name": "stdout",
     "text": [
      "[ 5.8541+0.j -0.8541+0.j  1.    +0.j]\n",
      "[ 5.8541 -0.8541  1.    ]\n"
     ]
    }
   ],
   "metadata": {}
  },
  {
   "cell_type": "code",
   "execution_count": 11,
   "source": [
    "A = np.array([[8,6,4,1],[1,4,5,1],[8,4,1,1],[1,4,3,6]])\r\n",
    "b = np.array([19,11,14,14])\r\n",
    "la.solve(A,b)"
   ],
   "outputs": [
    {
     "output_type": "execute_result",
     "data": {
      "text/plain": [
       "array([1., 1., 1., 1.])"
      ]
     },
     "metadata": {},
     "execution_count": 11
    }
   ],
   "metadata": {}
  },
  {
   "cell_type": "code",
   "execution_count": 12,
   "source": [
    "b = np.array([19.01,11.05,14.07,14.05])\r\n",
    "la.solve(A,b)"
   ],
   "outputs": [
    {
     "output_type": "execute_result",
     "data": {
      "text/plain": [
       "array([-2.34 ,  9.745, -4.85 , -1.34 ])"
      ]
     },
     "metadata": {},
     "execution_count": 12
    }
   ],
   "metadata": {}
  },
  {
   "cell_type": "code",
   "execution_count": 13,
   "source": [
    "U, s, V = np.linalg.svd(A)\r\n",
    "print(s)\r\n",
    "print(max(s)/min(s))"
   ],
   "outputs": [
    {
     "output_type": "stream",
     "name": "stdout",
     "text": [
      "[15.5457  6.9002  3.8363  0.0049]\n",
      "3198.6725811997335\n"
     ]
    }
   ],
   "metadata": {}
  },
  {
   "cell_type": "code",
   "execution_count": 14,
   "source": [
    "def svdsolver(A,b):\r\n",
    "    U, s, V = np.linalg.svd(A)\r\n",
    "    if np.prod(s) == 0:\r\n",
    "       print(\"Matrix is singular\")\r\n",
    "    else:\r\n",
    "       return np.dot(np.dot((V.T).dot(np.diag(s**(-1))), U.T),b)"
   ],
   "outputs": [],
   "metadata": {}
  },
  {
   "cell_type": "code",
   "execution_count": 15,
   "source": [
    "A = np.array([[1,1],[1,2]])\r\n",
    "b = np.array([3,1])\r\n",
    "print(np.linalg.solve(A,b))\r\n",
    "print(svdsolver(A,b))"
   ],
   "outputs": [
    {
     "output_type": "stream",
     "name": "stdout",
     "text": [
      "[ 5. -2.]\n",
      "[ 5. -2.]\n"
     ]
    }
   ],
   "metadata": {}
  },
  {
   "cell_type": "code",
   "execution_count": 17,
   "source": [
    "print(\"A = \")\r\n",
    "print(np.array([[1,2,3],[2,-4,6],[3,-9,-3]]))\r\n",
    "\r\n",
    "\r\n",
    "\r\n",
    "print(\"L = \")\r\n",
    "print(np.array([[1,0,0],[2,1,0],[3,15/8,1]]))\r\n",
    "\r\n",
    "print(\"U = \")\r\n",
    "print(np.array([[1,2,3],[0,-8,0],[0,0,-12]]))"
   ],
   "outputs": [
    {
     "output_type": "stream",
     "name": "stdout",
     "text": [
      "A = \n",
      "[[ 1  2  3]\n",
      " [ 2 -4  6]\n",
      " [ 3 -9 -3]]\n",
      "L = \n",
      "[[1.    0.    0.   ]\n",
      " [2.    1.    0.   ]\n",
      " [3.    1.875 1.   ]]\n",
      "U = \n",
      "[[  1   2   3]\n",
      " [  0  -8   0]\n",
      " [  0   0 -12]]\n"
     ]
    }
   ],
   "metadata": {}
  },
  {
   "cell_type": "code",
   "execution_count": null,
   "source": [
    "print(\"A = \")\r\n",
    "print(np.array([[1,2,3],[2,-4,6],[3,6,-3]]))\r\n",
    "\r\n",
    "print(\"為非正定矩陣\")"
   ],
   "outputs": [],
   "metadata": {}
  }
 ],
 "metadata": {
  "orig_nbformat": 4,
  "language_info": {
   "name": "python",
   "version": "3.7.6",
   "mimetype": "text/x-python",
   "codemirror_mode": {
    "name": "ipython",
    "version": 3
   },
   "pygments_lexer": "ipython3",
   "nbconvert_exporter": "python",
   "file_extension": ".py"
  },
  "kernelspec": {
   "name": "python3",
   "display_name": "Python 3.7.6 64-bit ('base': conda)"
  },
  "interpreter": {
   "hash": "64bdf1bda586204ca0aa422f17eea2e93fa1079da8b31ca445237c6d391c850c"
  }
 },
 "nbformat": 4,
 "nbformat_minor": 2
}