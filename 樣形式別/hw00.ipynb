{
 "cells": [
  {
   "cell_type": "code",
   "execution_count": null,
   "source": [
    "import numpy as np"
   ],
   "outputs": [],
   "metadata": {}
  },
  {
   "cell_type": "code",
   "execution_count": 6,
   "source": [
    "\r\n",
    "A= np.array([[1,-2,3],[2,1,-1],[-1,1,2]])\r\n",
    "\r\n",
    "b= np.array([[1],[3],[7]]) \r\n",
    "\r\n",
    "\r\n",
    "x= np.linalg.solve(A, b) \r\n",
    "\r\n",
    " \r\n",
    "print( \r\n",
    "\r\n",
    "f''' \r\n",
    "\r\n",
    "n= {3},  \r\n",
    "\r\n",
    "A= {A} \r\n",
    "\r\n",
    "b= {b} \r\n",
    "\r\n",
    "x= {x} \r\n",
    "\r\n",
    "''') "
   ],
   "outputs": [
    {
     "output_type": "stream",
     "name": "stdout",
     "text": [
      " \n",
      "\n",
      "n= 3,  \n",
      "\n",
      "A= [[ 1 -2  3]\n",
      " [ 2  1 -1]\n",
      " [-1  1  2]] \n",
      "\n",
      "b= [[1]\n",
      " [3]\n",
      " [7]] \n",
      "\n",
      "x= [[0.94444444]\n",
      " [3.38888889]\n",
      " [2.27777778]] \n",
      "\n",
      "\n"
     ]
    }
   ],
   "metadata": {}
  },
  {
   "cell_type": "code",
   "execution_count": 7,
   "source": [
    "A= np.array([[1,-2,3,1,-2],[2,1,-1,-1,+1],[-1,1,2,2,-3],[2,1,-1,-1,2],[1,3,-2,2,-2]])\r\n",
    "\r\n",
    "b= np.array([[-1],[3],[7],[5],[-4]]) \r\n",
    "\r\n",
    "\r\n",
    "x= np.linalg.solve(A, b) \r\n",
    "\r\n",
    " \r\n",
    "print( \r\n",
    "\r\n",
    "f''' \r\n",
    "\r\n",
    "n= {3},  \r\n",
    "\r\n",
    "A= {A} \r\n",
    "\r\n",
    "b= {b} \r\n",
    "\r\n",
    "x= {x} \r\n",
    "\r\n",
    "''') "
   ],
   "outputs": [
    {
     "output_type": "stream",
     "name": "stdout",
     "text": [
      " \n",
      "\n",
      "n= 3,  \n",
      "\n",
      "A= [[ 1 -2  3  1 -2]\n",
      " [ 2  1 -1 -1  1]\n",
      " [-1  1  2  2 -3]\n",
      " [ 2  1 -1 -1  2]\n",
      " [ 1  3 -2  2 -2]] \n",
      "\n",
      "b= [[-1]\n",
      " [ 3]\n",
      " [ 7]\n",
      " [ 5]\n",
      " [-4]] \n",
      "\n",
      "x= [[-0.625]\n",
      " [ 5.625]\n",
      " [ 5.75 ]\n",
      " [-2.375]\n",
      " [ 2.   ]] \n",
      "\n",
      "\n"
     ]
    }
   ],
   "metadata": {}
  },
  {
   "cell_type": "code",
   "execution_count": 8,
   "source": [
    "\r\n",
    "np.random.seed(0) \r\n",
    "\r\n",
    "n = 10\r\n",
    "\r\n",
    "A= np.random.randint(-5,5,size=(n,n)) \r\n",
    "\r\n",
    "\r\n",
    "np.random.seed(1) \r\n",
    "\r\n",
    "\r\n",
    "b= np.random.randint(-5,5,size=(n,1)) \r\n",
    "\r\n",
    " \r\n",
    "\r\n",
    "x= np.linalg.solve(A, b) \r\n",
    "\r\n",
    " \r\n",
    "\r\n",
    "print( \r\n",
    "\r\n",
    "f''' \r\n",
    "\r\n",
    "n= {n},  \r\n",
    "\r\n",
    "A= {A} \r\n",
    "\r\n",
    "b= {b} \r\n",
    "\r\n",
    "x= {x} \r\n",
    "\r\n",
    "''') "
   ],
   "outputs": [
    {
     "output_type": "stream",
     "name": "stdout",
     "text": [
      " \n",
      "\n",
      "n= 10,  \n",
      "\n",
      "A= [[ 0 -5 -2 -2  2  4 -2  0 -3 -1]\n",
      " [ 2  1  3  3 -4  1  2  2  3 -4]\n",
      " [ 0  4  3  4 -1 -2 -5 -2  0 -5]\n",
      " [-3 -2  3 -4 -2 -2 -2  2 -5 -4]\n",
      " [ 4  4 -5 -1  2 -2 -3  2 -3 -5]\n",
      " [-5 -1  0  0  1  3 -1 -4 -1  4]\n",
      " [ 3 -4 -4  2  4  4 -2  1  2 -3]\n",
      " [-5 -2  0  4 -1 -1  1 -1 -1 -2]\n",
      " [-1 -1  3 -1 -2  2  0  0 -5 -4]\n",
      " [ 0  4 -2 -5  0 -5 -4 -3 -1 -3]] \n",
      "\n",
      "b= [[ 0]\n",
      " [ 3]\n",
      " [ 4]\n",
      " [ 0]\n",
      " [-5]\n",
      " [-5]\n",
      " [-4]\n",
      " [ 2]\n",
      " [ 1]\n",
      " [ 4]] \n",
      "\n",
      "x= [[ 2.41026587]\n",
      " [-2.33689728]\n",
      " [-0.30247412]\n",
      " [ 0.90538128]\n",
      " [-2.84414544]\n",
      " [-1.88566993]\n",
      " [-0.59590749]\n",
      " [-2.26735821]\n",
      " [-0.75324469]\n",
      " [ 0.69925056]] \n",
      "\n",
      "\n"
     ]
    }
   ],
   "metadata": {}
  }
 ],
 "metadata": {
  "orig_nbformat": 4,
  "language_info": {
   "name": "python",
   "version": "3.7.6",
   "mimetype": "text/x-python",
   "codemirror_mode": {
    "name": "ipython",
    "version": 3
   },
   "pygments_lexer": "ipython3",
   "nbconvert_exporter": "python",
   "file_extension": ".py"
  },
  "kernelspec": {
   "name": "python3",
   "display_name": "Python 3.7.6 64-bit ('base': conda)"
  },
  "interpreter": {
   "hash": "64bdf1bda586204ca0aa422f17eea2e93fa1079da8b31ca445237c6d391c850c"
  }
 },
 "nbformat": 4,
 "nbformat_minor": 2
}